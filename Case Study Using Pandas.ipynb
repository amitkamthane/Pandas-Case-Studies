{
 "cells": [
  {
   "cell_type": "markdown",
   "id": "a490ba38",
   "metadata": {},
   "source": [
    "### Case Study Using Pandas "
   ]
  },
  {
   "cell_type": "markdown",
   "id": "f619aca7",
   "metadata": {},
   "source": [
    "**Problem Statement:** \n",
    "- The given excel sheet contains the different companies data \n",
    "- for each company compute rolling meadian based on following conditions. Make use of column ROCE_Cal to calculate meadian\n",
    "- Conditions are as follows\n",
    "- **Condition 1:**\n",
    "   - **if company has data more than 5 or equal to 5 years then**\n",
    "        - then compute rolling mean of previous 5 years and  create new column medain to update those values.\n",
    "- **Example**:\n",
    "<p>\n",
    "<table>\n",
    "<tr>\n",
    "    <td>      </td>     <td><B>Year</B> </td><td><B>Values</B></td><td><B> Median</B> </td> \n",
    "</tr>    \n",
    "<tr>\n",
    "<td> 1</td><td>2011</td><td>  NA </td> <td>  NA </td>\n",
    "</tr>\n",
    "<tr>\n",
    "<td> 2</td><td>2012</td><td>  NA </td> <td>  NA </td>\n",
    "</tr>\n",
    "<tr>\n",
    "<td> 3</td><td>2013</td><td>  NA </td> <td>  NA </td> \n",
    "</tr>\n",
    "<tr>\n",
    "<td> 4</td><td>2014</td><td>  NA </td> <td>  NA </td>\n",
    "</tr>\n",
    "<tr>\n",
    "<td> 5</td><td>2015</td><td>  NA </td> <td>  median(B1:B5) </td>\n",
    "</tr>\n",
    "</table>\n",
    "</p>\n",
    "- **Condition 2:**\n",
    "    - **if company has data more than 5 and less than 15 years then**\n",
    "        - **compute rolling mean for each of them from 0 to that year**\n",
    "\n",
    "- **Example**:\n",
    "<p>\n",
    "<table>\n",
    "<tr>\n",
    "    <td>      </td>     <td><B>Year</B> </td><td><B>Values</B></td><td><B> Median</B> </td> \n",
    "</tr>    \n",
    "<tr>\n",
    "<td> 1</td><td>2011</td><td>  NA </td> <td>  NA </td>\n",
    "</tr>\n",
    "<tr>\n",
    "<td> 2</td><td>2012</td><td>  NA </td> <td>  NA </td>\n",
    "</tr>\n",
    "<tr>\n",
    "<td> 3</td><td>2013</td><td>  NA </td> <td>  NA </td> \n",
    "</tr>\n",
    "<tr>\n",
    "<td> 4</td><td>2014</td><td>  NA </td> <td>  NA </td>\n",
    "</tr>\n",
    "<tr>\n",
    "<td> 5</td><td>2015</td><td>  NA </td> <td>  median(B1:B5) </td>\n",
    "</tr>\n",
    "<tr>\n",
    "<td> 6</td><td>2016</td><td>  NA </td> <td>  median(B1:B6) </td>\n",
    "</tr>\n",
    "</table>\n",
    "</p>\n",
    "- **Condition 3**\n",
    "    - **if company has data more than 15  then**\n",
    "        - **compute rolling mean for each of them for last 15 days**\n",
    "- for reference: Please check the excel sheet "
   ]
  },
  {
   "cell_type": "markdown",
   "id": "aac832de",
   "metadata": {},
   "source": [
    "#### How this Case Study Can be done ?  Which technologies I required to do this ? \n",
    "- **Following Concepts of Pythons are required to complete the above case Study**\n",
    "       -  for loops\n",
    "        - functions\n",
    "        - Decision statements\n",
    "        - list\n",
    "        - List slicing Operation \n",
    "- **Following functions of pandas are required to complete the above case Study**\n",
    "        - read_csv()\n",
    "        - median()\n",
    "        - reset_index()\n",
    "        - append()\n",
    "        - DataFrame()\n",
    "        - to_csv()\n",
    "        - loc\n",
    "        - iloc"
   ]
  },
  {
   "cell_type": "code",
   "execution_count": 1,
   "id": "a490e8c9",
   "metadata": {},
   "outputs": [],
   "source": [
    "import pandas as pd"
   ]
  },
  {
   "cell_type": "code",
   "execution_count": 3,
   "id": "a0480e70",
   "metadata": {},
   "outputs": [],
   "source": [
    "df = pd.read_csv(r\"C:\\Users\\AMIT KAMTHANE\\Downloads\\MEDIAN_ROCE2.csv\")"
   ]
  },
  {
   "cell_type": "code",
   "execution_count": 4,
   "id": "15c4b895",
   "metadata": {},
   "outputs": [
    {
     "name": "stderr",
     "output_type": "stream",
     "text": [
      "<ipython-input-4-7dac174198b7>:2: SettingWithCopyWarning: \n",
      "A value is trying to be set on a copy of a slice from a DataFrame.\n",
      "Try using .loc[row_indexer,col_indexer] = value instead\n",
      "\n",
      "See the caveats in the documentation: https://pandas.pydata.org/pandas-docs/stable/user_guide/indexing.html#returning-a-view-versus-a-copy\n",
      "  df1[\"Median\"] = ''\n"
     ]
    }
   ],
   "source": [
    "df1 = df[['FSYM_ID', 'DATE', 'ROCE_Cal']]\n",
    "df1[\"Median\"] = ''"
   ]
  },
  {
   "cell_type": "code",
   "execution_count": 12,
   "id": "52914ed7",
   "metadata": {},
   "outputs": [
    {
     "data": {
      "text/plain": [
       "['B76F7T-R',\n",
       " 'B93JW5-R',\n",
       " 'B93HY8-R',\n",
       " 'B92RHK-R',\n",
       " 'B91N8D-R',\n",
       " 'B76KHY-S',\n",
       " 'B93BGZ-R']"
      ]
     },
     "execution_count": 12,
     "metadata": {},
     "output_type": "execute_result"
    }
   ],
   "source": [
    "company = list(df1[\"FSYM_ID\"].unique())\n",
    "company"
   ]
  },
  {
   "cell_type": "code",
   "execution_count": 13,
   "id": "a457add1",
   "metadata": {},
   "outputs": [],
   "source": [
    "def compute_median(df2):\n",
    "    for i in range(0,len(df2)):\n",
    "        if i == 4:\n",
    "            df2[\"Median\"].loc[i] = df2.iloc[0:i+1].median()[0]\n",
    "            print(df2[\"Median\"].loc[i])\n",
    "\n",
    "        elif i>4 and i<=15:\n",
    "            df2[\"Median\"].loc[i] = df2.iloc[0:i+1].median()[0]\n",
    "        elif i>15:\n",
    "            df2[\"Median\"].loc[i] = df2.iloc[i-14:i+1].median()[0]\n",
    "        else:\n",
    "            pass\n",
    "    print(df2)\n",
    "    return df2"
   ]
  },
  {
   "cell_type": "code",
   "execution_count": 14,
   "id": "c610849f",
   "metadata": {},
   "outputs": [
    {
     "name": "stderr",
     "output_type": "stream",
     "text": [
      "D:\\Anaconda\\lib\\site-packages\\pandas\\core\\indexing.py:1637: SettingWithCopyWarning: \n",
      "A value is trying to be set on a copy of a slice from a DataFrame\n",
      "\n",
      "See the caveats in the documentation: https://pandas.pydata.org/pandas-docs/stable/user_guide/indexing.html#returning-a-view-versus-a-copy\n",
      "  self._setitem_single_block(indexer, value, name)\n",
      "D:\\Anaconda\\lib\\site-packages\\pandas\\core\\indexing.py:1637: SettingWithCopyWarning: \n",
      "A value is trying to be set on a copy of a slice from a DataFrame\n",
      "\n",
      "See the caveats in the documentation: https://pandas.pydata.org/pandas-docs/stable/user_guide/indexing.html#returning-a-view-versus-a-copy\n",
      "  self._setitem_single_block(indexer, value, name)\n",
      "D:\\Anaconda\\lib\\site-packages\\pandas\\core\\indexing.py:1637: SettingWithCopyWarning: \n",
      "A value is trying to be set on a copy of a slice from a DataFrame\n",
      "\n",
      "See the caveats in the documentation: https://pandas.pydata.org/pandas-docs/stable/user_guide/indexing.html#returning-a-view-versus-a-copy\n",
      "  self._setitem_single_block(indexer, value, name)\n",
      "D:\\Anaconda\\lib\\site-packages\\pandas\\core\\indexing.py:1637: SettingWithCopyWarning: \n",
      "A value is trying to be set on a copy of a slice from a DataFrame\n",
      "\n",
      "See the caveats in the documentation: https://pandas.pydata.org/pandas-docs/stable/user_guide/indexing.html#returning-a-view-versus-a-copy\n",
      "  self._setitem_single_block(indexer, value, name)\n",
      "D:\\Anaconda\\lib\\site-packages\\pandas\\core\\indexing.py:1637: SettingWithCopyWarning: \n",
      "A value is trying to be set on a copy of a slice from a DataFrame\n",
      "\n",
      "See the caveats in the documentation: https://pandas.pydata.org/pandas-docs/stable/user_guide/indexing.html#returning-a-view-versus-a-copy\n",
      "  self._setitem_single_block(indexer, value, name)\n"
     ]
    },
    {
     "name": "stdout",
     "output_type": "stream",
     "text": [
      "0.12\n",
      "    FSYM_ID        DATE  ROCE_Cal Median\n",
      "0  B76F7T-R  31-12-2010      0.22       \n",
      "1  B76F7T-R  31-12-2011      0.20       \n",
      "2  B76F7T-R  31-12-2012      0.12       \n",
      "3  B76F7T-R  31-12-2013      0.01       \n",
      "4  B76F7T-R  31-12-2014     -0.08   0.12\n",
      "5  B76F7T-R  31-12-2015     -0.30  0.065\n",
      "6  B76F7T-R  31-12-2016      0.05   0.05\n",
      "7  B76F7T-R  31-12-2017      0.26  0.085\n",
      "8  B76F7T-R  31-12-2018      0.26   0.12\n",
      "0.14\n",
      "     FSYM_ID        DATE  ROCE_Cal Median\n",
      "0   B93JW5-R  31-12-2000      0.18       \n",
      "1   B93JW5-R  31-12-2001      0.15       \n",
      "2   B93JW5-R  31-12-2002      0.14       \n",
      "3   B93JW5-R  31-12-2003      0.11       \n",
      "4   B93JW5-R  31-12-2004      0.10   0.14\n",
      "5   B93JW5-R  31-12-2005      0.12   0.13\n",
      "6   B93JW5-R  31-12-2006      0.14   0.14\n",
      "7   B93JW5-R  31-12-2007      0.18   0.14\n",
      "8   B93JW5-R  31-12-2008      0.15   0.14\n",
      "9   B93JW5-R  31-12-2009      0.12   0.14\n",
      "10  B93JW5-R  31-12-2010      0.17   0.14\n",
      "11  B93JW5-R  31-12-2011      0.18  0.145\n",
      "12  B93JW5-R  31-12-2012      0.17   0.15\n",
      "13  B93JW5-R  31-12-2013      0.17   0.15\n",
      "14  B93JW5-R  31-12-2014      0.15   0.15\n",
      "15  B93JW5-R  31-12-2015      0.12   0.15\n",
      "16  B93JW5-R  31-12-2016      0.06   0.14\n",
      "17  B93JW5-R  31-12-2017      0.08   0.14\n",
      "18  B93JW5-R  31-12-2018      0.09   0.14\n",
      "0.12\n",
      "     FSYM_ID        DATE  ROCE_Cal Median\n",
      "0   B93HY8-R  31-12-2004      0.13       \n",
      "1   B93HY8-R  31-12-2005      0.04       \n",
      "2   B93HY8-R  31-12-2006      0.09       \n",
      "3   B93HY8-R  31-12-2007      0.12       \n",
      "4   B93HY8-R  31-12-2008      0.13   0.12\n",
      "5   B93HY8-R  31-12-2009      0.17  0.125\n",
      "6   B93HY8-R  31-12-2010      0.09   0.12\n",
      "7   B93HY8-R  31-12-2011      0.01  0.105\n",
      "8   B93HY8-R  31-12-2012     -0.02   0.09\n",
      "9   B93HY8-R  31-12-2013      0.04   0.09\n",
      "10  B93HY8-R  31-12-2014      0.14   0.09\n",
      "11  B93HY8-R  31-12-2015      0.10  0.095\n",
      "12  B93HY8-R  31-12-2016      0.08   0.09\n",
      "13  B93HY8-R  31-12-2017      0.04   0.09\n",
      "14  B93HY8-R  31-12-2018     -0.16   0.09\n",
      "0.0\n",
      "     FSYM_ID        DATE  ROCE_Cal Median\n",
      "0   B92RHK-R  31-12-2005      0.00       \n",
      "1   B92RHK-R  31-12-2006      0.00       \n",
      "2   B92RHK-R  31-12-2007      0.00       \n",
      "3   B92RHK-R  31-12-2008      0.00       \n",
      "4   B92RHK-R  31-12-2009      0.00    0.0\n",
      "5   B92RHK-R  31-12-2010      0.00    0.0\n",
      "6   B92RHK-R  31-12-2011      0.00    0.0\n",
      "7   B92RHK-R  31-12-2012      0.01    0.0\n",
      "8   B92RHK-R  31-12-2013      0.02    0.0\n",
      "9   B92RHK-R  31-12-2014      0.02    0.0\n",
      "10  B92RHK-R  31-12-2015      0.02    0.0\n",
      "11  B92RHK-R  31-12-2016      0.01    0.0\n",
      "12  B92RHK-R  31-12-2017      0.00    0.0\n",
      "13  B92RHK-R  31-12-2018      0.01    0.0\n",
      "0.23\n",
      "    FSYM_ID        DATE  ROCE_Cal Median\n",
      "0  B91N8D-R  31-12-2005     -0.01       \n",
      "1  B91N8D-R  31-12-2006      0.04       \n",
      "2  B91N8D-R  31-12-2007      0.23       \n",
      "3  B91N8D-R  31-12-2008      0.30       \n",
      "4  B91N8D-R  31-12-2009      0.45   0.23\n",
      "5  B91N8D-R  31-12-2010      0.44  0.265\n",
      "6  B91N8D-R  31-12-2011      0.73    0.3\n",
      "7  B91N8D-R  31-12-2012      0.44   0.37\n",
      "8  B91N8D-R  31-12-2013      0.49   0.44\n",
      "    FSYM_ID        DATE  ROCE_Cal Median\n",
      "0  B76KHY-S  31-12-2000      0.03       \n",
      "1  B76KHY-S  31-12-2001      0.02       \n",
      "2  B76KHY-S  31-12-2002     -0.08       \n",
      "3  B76KHY-S  31-12-2003      0.04       \n",
      "    FSYM_ID        DATE  ROCE_Cal Median\n",
      "0  B93BGZ-R  31-12-2001      0.08       \n",
      "1  B93BGZ-R  31-12-2002      0.06       \n",
      "2  B93BGZ-R  31-12-2003      0.03       \n"
     ]
    }
   ],
   "source": [
    "new_df = pd.DataFrame(columns=df1.columns)\n",
    "for i in range(len(company)):\n",
    "    df2 = df1[df1[\"FSYM_ID\"] == company[i]].reset_index(drop=True)\n",
    "    new_df = new_df.append(compute_median(df2))\n",
    "new_df.reset_index(drop=True)\n",
    "new_df.to_csv(r\"C:\\Users\\AMIT KAMTHANE\\Downloads\\demo1.csv\",index=False)"
   ]
  },
  {
   "cell_type": "code",
   "execution_count": null,
   "id": "9780d297",
   "metadata": {},
   "outputs": [],
   "source": []
  }
 ],
 "metadata": {
  "kernelspec": {
   "display_name": "Python 3",
   "language": "python",
   "name": "python3"
  },
  "language_info": {
   "codemirror_mode": {
    "name": "ipython",
    "version": 3
   },
   "file_extension": ".py",
   "mimetype": "text/x-python",
   "name": "python",
   "nbconvert_exporter": "python",
   "pygments_lexer": "ipython3",
   "version": "3.8.8"
  }
 },
 "nbformat": 4,
 "nbformat_minor": 5
}
